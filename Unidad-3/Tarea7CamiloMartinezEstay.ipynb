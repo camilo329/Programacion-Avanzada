{
  "nbformat": 4,
  "nbformat_minor": 0,
  "metadata": {
    "colab": {
      "provenance": []
    },
    "kernelspec": {
      "name": "python3",
      "display_name": "Python 3"
    },
    "language_info": {
      "name": "python"
    }
  },
  "cells": [
    {
      "cell_type": "markdown",
      "source": [
        "La librería \"pybind11\" nos ayudará a traspasar de un lenguaje a otro.\n",
        "\n",
        "1. Primero instalaremos pybind11\n",
        "2. En el archivo CMakeList nos servirá para decirle al programa lo que debe hacer (compilación y creación de librería)"
      ],
      "metadata": {
        "id": "8LOxcgbRCuo6"
      }
    },
    {
      "cell_type": "code",
      "source": [
        "!pip install pybind11"
      ],
      "metadata": {
        "colab": {
          "base_uri": "https://localhost:8080/"
        },
        "id": "RLSxASxeC3nJ",
        "outputId": "4795d952-750d-4f9d-dee8-4bac472c0567"
      },
      "execution_count": null,
      "outputs": [
        {
          "output_type": "stream",
          "name": "stdout",
          "text": [
            "Collecting pybind11\n",
            "  Downloading pybind11-2.13.6-py3-none-any.whl.metadata (9.5 kB)\n",
            "Downloading pybind11-2.13.6-py3-none-any.whl (243 kB)\n",
            "\u001b[2K   \u001b[90m━━━━━━━━━━━━━━━━━━━━━━━━━━━━━━━━━━━━━━━━\u001b[0m \u001b[32m243.3/243.3 kB\u001b[0m \u001b[31m4.6 MB/s\u001b[0m eta \u001b[36m0:00:00\u001b[0m\n",
            "\u001b[?25hInstalling collected packages: pybind11\n",
            "Successfully installed pybind11-2.13.6\n"
          ]
        }
      ]
    },
    {
      "cell_type": "code",
      "source": [
        "import pybind11\n",
        "print(pybind11.get_cmake_dir() ) #Imprimir directorio"
      ],
      "metadata": {
        "colab": {
          "base_uri": "https://localhost:8080/"
        },
        "id": "dqnZKfHoDuR7",
        "outputId": "4fb301f5-d298-4a6b-a098-a595e82f42ae"
      },
      "execution_count": null,
      "outputs": [
        {
          "output_type": "stream",
          "name": "stdout",
          "text": [
            "/usr/local/lib/python3.10/dist-packages/pybind11/share/cmake/pybind11\n"
          ]
        }
      ]
    },
    {
      "cell_type": "code",
      "source": [
        "!pwd"
      ],
      "metadata": {
        "colab": {
          "base_uri": "https://localhost:8080/"
        },
        "id": "xfg5hvjLIQde",
        "outputId": "093b7fe4-e168-4b12-9531-6ad2f93d91cd"
      },
      "execution_count": null,
      "outputs": [
        {
          "output_type": "stream",
          "name": "stdout",
          "text": [
            "/content\n"
          ]
        }
      ]
    },
    {
      "cell_type": "code",
      "source": [
        "!mkdir build"
      ],
      "metadata": {
        "id": "2cPFYUoDIVKG"
      },
      "execution_count": null,
      "outputs": []
    },
    {
      "cell_type": "code",
      "source": [
        "%cd build"
      ],
      "metadata": {
        "colab": {
          "base_uri": "https://localhost:8080/"
        },
        "id": "7Zwdl18WHUMq",
        "outputId": "f1d66268-b58c-4c2a-c94f-0d9cfa884dcc"
      },
      "execution_count": null,
      "outputs": [
        {
          "output_type": "stream",
          "name": "stdout",
          "text": [
            "/content/build\n"
          ]
        }
      ]
    },
    {
      "cell_type": "code",
      "source": [
        "!cmake .."
      ],
      "metadata": {
        "id": "YBkdHlIlHpEG",
        "colab": {
          "base_uri": "https://localhost:8080/"
        },
        "outputId": "4047021d-c17d-48bf-f15a-78e1a16eaa5a"
      },
      "execution_count": null,
      "outputs": [
        {
          "output_type": "stream",
          "name": "stdout",
          "text": [
            "-- The C compiler identification is GNU 11.4.0\n",
            "-- The CXX compiler identification is GNU 11.4.0\n",
            "-- Detecting C compiler ABI info\n",
            "-- Detecting C compiler ABI info - done\n",
            "-- Check for working C compiler: /usr/bin/cc - skipped\n",
            "-- Detecting C compile features\n",
            "-- Detecting C compile features - done\n",
            "-- Detecting CXX compiler ABI info\n",
            "-- Detecting CXX compiler ABI info - done\n",
            "-- Check for working CXX compiler: /usr/bin/c++ - skipped\n",
            "-- Detecting CXX compile features\n",
            "-- Detecting CXX compile features - done\n",
            "\u001b[33mCMake Warning (dev) at /usr/local/lib/python3.10/dist-packages/pybind11/share/cmake/pybind11/FindPythonLibsNew.cmake:101 (message):\n",
            "  Policy CMP0148 is not set: The FindPythonInterp and FindPythonLibs modules\n",
            "  are removed.  Run \"cmake --help-policy CMP0148\" for policy details.  Use\n",
            "  the cmake_policy command to set the policy and suppress this warning, or\n",
            "  preferably upgrade to using FindPython, either by calling it explicitly\n",
            "  before pybind11, or by setting PYBIND11_FINDPYTHON ON before pybind11.\n",
            "Call Stack (most recent call first):\n",
            "  /usr/local/lib/python3.10/dist-packages/pybind11/share/cmake/pybind11/pybind11Tools.cmake:50 (find_package)\n",
            "  /usr/local/lib/python3.10/dist-packages/pybind11/share/cmake/pybind11/pybind11Common.cmake:228 (include)\n",
            "  /usr/local/lib/python3.10/dist-packages/pybind11/share/cmake/pybind11/pybind11Config.cmake:250 (include)\n",
            "  CMakeLists.txt:6 (find_package)\n",
            "This warning is for project developers.  Use -Wno-dev to suppress it.\n",
            "\u001b[0m\n",
            "-- Found PythonInterp: /usr/bin/python3 (found suitable version \"3.10.12\", minimum required is \"3.7\")\n",
            "-- Found PythonLibs: /usr/lib/x86_64-linux-gnu/libpython3.10.so\n",
            "-- Performing Test HAS_FLTO\n",
            "-- Performing Test HAS_FLTO - Success\n",
            "-- Found pybind11: /usr/local/lib/python3.10/dist-packages/pybind11/include (found version \"2.13.6\")\n",
            "-- Configuring done (1.2s)\n",
            "-- Generating done (0.0s)\n",
            "-- Build files have been written to: /content/build\n"
          ]
        }
      ]
    },
    {
      "cell_type": "code",
      "source": [
        "!make"
      ],
      "metadata": {
        "id": "sV-9S1UnHugP",
        "colab": {
          "base_uri": "https://localhost:8080/"
        },
        "outputId": "d3fde1f9-838a-4334-9a13-b40c102c3d07"
      },
      "execution_count": null,
      "outputs": [
        {
          "output_type": "stream",
          "name": "stdout",
          "text": [
            "[ 50%] \u001b[32mBuilding CXX object CMakeFiles/stl_bindings.dir/CamiloMartinezEstay.cpp.o\u001b[0m\n",
            "[100%] \u001b[32m\u001b[1mLinking CXX shared module stl_bindings.so\u001b[0m\n",
            "[100%] Built target stl_bindings\n"
          ]
        }
      ]
    },
    {
      "cell_type": "code",
      "source": [
        "!ls"
      ],
      "metadata": {
        "colab": {
          "base_uri": "https://localhost:8080/"
        },
        "id": "hnhHaFx9KsWB",
        "outputId": "fb83e000-ebe8-4739-a2ab-88f4ada8ae10"
      },
      "execution_count": null,
      "outputs": [
        {
          "output_type": "stream",
          "name": "stdout",
          "text": [
            "CMakeCache.txt\tCMakeFiles  cmake_install.cmake  Makefile  stl_bindings.so\n"
          ]
        }
      ]
    },
    {
      "cell_type": "code",
      "source": [
        "import sys\n",
        "sys.path.append('/content/build')\n",
        "\n",
        "import stl_bindings"
      ],
      "metadata": {
        "id": "28Bxv56YLXBi"
      },
      "execution_count": null,
      "outputs": []
    },
    {
      "cell_type": "code",
      "source": [
        "#Creación de vectores para luego sumarlos\n",
        "\n",
        "a = [1,2,3]\n",
        "b = [2,3,4]\n",
        "\n",
        "resultado = stl_bindings.sum_vectors(a,b)\n",
        "print(\"La suma de los vectores es \", resultado)"
      ],
      "metadata": {
        "colab": {
          "base_uri": "https://localhost:8080/"
        },
        "id": "HiQt52ewMVjT",
        "outputId": "9247d340-247a-4ed4-c8b4-f64a519b1d4e"
      },
      "execution_count": null,
      "outputs": [
        {
          "output_type": "stream",
          "name": "stdout",
          "text": [
            "La suma de los vectores es  [3, 5, 7]\n"
          ]
        }
      ]
    },
    {
      "cell_type": "markdown",
      "source": [
        "Esta suma está siendo realizada en C++, para luego ser reescrita por la librería creada."
      ],
      "metadata": {
        "id": "3WQLRUIKOWaw"
      }
    },
    {
      "cell_type": "code",
      "source": [
        "stl_bindings.create_map() #Nos entregará un diccionario (Def en archivo.cpp)"
      ],
      "metadata": {
        "colab": {
          "base_uri": "https://localhost:8080/"
        },
        "id": "xj_v1ky1OCOg",
        "outputId": "9b2aa305-8869-44ee-d2f2-a105f16108f8"
      },
      "execution_count": null,
      "outputs": [
        {
          "output_type": "execute_result",
          "data": {
            "text/plain": [
              "{'dos': 2, 'tres': 3, 'uno': 1}"
            ]
          },
          "metadata": {},
          "execution_count": 14
        }
      ]
    },
    {
      "cell_type": "code",
      "source": [
        "stl_bindings.saludo()"
      ],
      "metadata": {
        "colab": {
          "base_uri": "https://localhost:8080/",
          "height": 35
        },
        "id": "mERbAeojOoGm",
        "outputId": "2eaa0ec1-c164-4887-bf14-0d349bedc1dc"
      },
      "execution_count": null,
      "outputs": [
        {
          "output_type": "execute_result",
          "data": {
            "text/plain": [
              "'Hola, desde C++!'"
            ],
            "application/vnd.google.colaboratory.intrinsic+json": {
              "type": "string"
            }
          },
          "metadata": {},
          "execution_count": 15
        }
      ]
    },
    {
      "cell_type": "code",
      "source": [
        "import stl_bindings\n",
        "print(stl_bindings.imprimir(\"Camilo Martínez Estay\"))\n"
      ],
      "metadata": {
        "colab": {
          "base_uri": "https://localhost:8080/"
        },
        "id": "hUwRU13-P5DF",
        "outputId": "a697ceb3-995c-4f8c-a90a-e5403a23ed6c"
      },
      "execution_count": null,
      "outputs": [
        {
          "output_type": "stream",
          "name": "stdout",
          "text": [
            "Hola, mi nombre es Camilo Martínez Estay\n"
          ]
        }
      ]
    },
    {
      "cell_type": "code",
      "source": [],
      "metadata": {
        "id": "edbx1wE_QhKF"
      },
      "execution_count": null,
      "outputs": []
    }
  ]
}
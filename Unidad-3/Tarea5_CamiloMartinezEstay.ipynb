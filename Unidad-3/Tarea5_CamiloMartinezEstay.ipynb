{
  "nbformat": 4,
  "nbformat_minor": 0,
  "metadata": {
    "colab": {
      "provenance": []
    },
    "kernelspec": {
      "name": "python3",
      "display_name": "Python 3"
    },
    "language_info": {
      "name": "python"
    }
  },
  "cells": [
    {
      "cell_type": "markdown",
      "source": [
        "## Tarea Semana 7\n",
        "\n",
        "---\n",
        "\n",
        "*   Camilo Martínez Estay.\n",
        "*   16 de octubre, 2024.\n",
        "\n",
        "\n",
        "---\n",
        "\n",
        "Escribir en formato CSR la matriz $A$ de tamaño $ 8 \\times 8 $, con las siguientes entradas no cero:\n",
        "\n",
        "\\begin{align*}\n",
        "A(1, 1) &= 3 \\\\\n",
        "A(2, 1) &= 4 \\\\\n",
        "A(6, 6) &= 5 \\\\\n",
        "A(7, 1) &= 5 \\\\\n",
        "A(7, 3) &= 8 \\\\\n",
        "\\end{align*}\n",
        "\n",
        "Es decir, se pide encontrar el vector de valores, punteros de las filas, e índices de columnas.\n",
        "\n"
      ],
      "metadata": {
        "id": "c544P6QAV12G"
      }
    },
    {
      "cell_type": "markdown",
      "source": [
        "En el documento de la semana 7 vimos el sigueinte ejemplo"
      ],
      "metadata": {
        "id": "aTi5BHaXcL4v"
      }
    },
    {
      "cell_type": "code",
      "execution_count": 14,
      "metadata": {
        "colab": {
          "base_uri": "https://localhost:8080/"
        },
        "id": "p08R3lRGVtz2",
        "outputId": "7dff81d5-2077-4b38-8d3c-e368a21747a5"
      },
      "outputs": [
        {
          "output_type": "stream",
          "name": "stdout",
          "text": [
            "[4 7 0]\n"
          ]
        }
      ],
      "source": [
        "from scipy.sparse import csr_matrix\n",
        "import numpy as np\n",
        "\n",
        "# Crear una matriz dispersa CSR\n",
        "data = [4, 5, 7]\n",
        "row_indices = [0, 1, 1]\n",
        "col_indices = [0, 1, 2]\n",
        "\n",
        "csr = csr_matrix((data, (row_indices, col_indices)), shape=(3, 3))\n",
        "\n",
        "# Multiplicar la matriz dispersa por un vector\n",
        "vector = np.array([1, 0, 1])\n",
        "result = csr.dot(vector)\n",
        "print(result)\n"
      ]
    },
    {
      "cell_type": "markdown",
      "source": [
        "Ahora, para lo solicitado como tarea"
      ],
      "metadata": {
        "id": "TwuDI0vzcPTv"
      }
    },
    {
      "cell_type": "code",
      "source": [
        "from scipy.sparse import csr_matrix\n",
        "\n",
        "# Definir los datos no nulos de la matriz\n",
        "valores = [3, 4, 5, 5, 8]\n",
        "filas = [0, 1, 5, 6, 6]\n",
        "columnas = [0, 0, 5, 0, 2]\n",
        "\n",
        "# Crear la matriz en formato CSR\n",
        "matriz_csr = csr_matrix((valores, (filas, columnas)), shape=(8, 8))\n",
        "print(\"Matriz formato CSR\")\n",
        "print(matriz_csr)\n",
        "\n",
        "# Mostrar los vectores de la matriz CSR\n",
        "print(\"\\nValores:\", matriz_csr.data)\n",
        "print(\"Punteros de las filas:\", matriz_csr.indptr)\n",
        "print(\"Índices de columna:\", matriz_csr.indices)\n",
        "\n",
        "# Matriz CSR en su forma completa\n",
        "matriz_densa = matriz_csr.toarray()\n",
        "print(\"\\nMatriz completa:\")\n",
        "print(matriz_densa)\n",
        "\n"
      ],
      "metadata": {
        "colab": {
          "base_uri": "https://localhost:8080/"
        },
        "id": "UDS_9acaWS68",
        "outputId": "c9ec6fb5-49d6-4d90-b4b5-fa8d2b4b42fe"
      },
      "execution_count": 23,
      "outputs": [
        {
          "output_type": "stream",
          "name": "stdout",
          "text": [
            "Matriz formato CSR\n",
            "  (0, 0)\t3\n",
            "  (1, 0)\t4\n",
            "  (5, 5)\t5\n",
            "  (6, 0)\t5\n",
            "  (6, 2)\t8\n",
            "\n",
            "Valores: [3 4 5 5 8]\n",
            "Punteros de las filas: [0 1 2 2 2 2 3 5 5]\n",
            "Índices de columna: [0 0 5 0 2]\n",
            "\n",
            "Matriz completa:\n",
            "[[3 0 0 0 0 0 0 0]\n",
            " [4 0 0 0 0 0 0 0]\n",
            " [0 0 0 0 0 0 0 0]\n",
            " [0 0 0 0 0 0 0 0]\n",
            " [0 0 0 0 0 0 0 0]\n",
            " [0 0 0 0 0 5 0 0]\n",
            " [5 0 8 0 0 0 0 0]\n",
            " [0 0 0 0 0 0 0 0]]\n"
          ]
        }
      ]
    },
    {
      "cell_type": "code",
      "source": [],
      "metadata": {
        "id": "s940DLDgWtpg"
      },
      "execution_count": null,
      "outputs": []
    }
  ]
}